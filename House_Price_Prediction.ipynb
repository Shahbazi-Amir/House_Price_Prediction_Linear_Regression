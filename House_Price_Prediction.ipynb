{
 "cells": [
  {
   "cell_type": "markdown",
   "id": "18e98b62",
   "metadata": {},
   "source": [
    "House_Price_Prediction_Linear_Regression"
   ]
  }
 ],
 "metadata": {
  "language_info": {
   "name": "python"
  }
 },
 "nbformat": 4,
 "nbformat_minor": 5
}
